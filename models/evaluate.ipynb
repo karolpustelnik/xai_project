{
 "cells": [
  {
   "cell_type": "code",
   "execution_count": 1,
   "metadata": {},
   "outputs": [],
   "source": [
    "import torch\n",
    "from PIL import Image\n",
    "import torch\n",
    "import torch.nn as nn\n",
    "import torch.utils.checkpoint as checkpoint\n",
    "from timm.models.layers import DropPath, to_2tuple, trunc_normal_\n",
    "from torchvision.models.resnet import resnet18\n",
    "from torchvision.models import resnet101\n",
    "from efficientnet_pytorch import EfficientNet\n",
    "from torchvision import datasets, transforms"
   ]
  },
  {
   "cell_type": "code",
   "execution_count": 2,
   "metadata": {},
   "outputs": [],
   "source": [
    "t = transforms.Compose([transforms.Resize((450, 600)),\n",
    "                transforms.Pad((0, 0, 0, 150), fill = 0, padding_mode = 'constant'),\n",
    "                transforms.Resize((512, 512)),\n",
    "                transforms.ToTensor(),\n",
    "                transforms.Normalize(mean=0.1354949, std=0.18222201)])"
   ]
  },
  {
   "cell_type": "code",
   "execution_count": 3,
   "metadata": {},
   "outputs": [],
   "source": [
    "path = '/data/kpusteln/fetal/fetal_extracted/40_3_206.png'\n",
    "ps = 0.0344111999999999\n",
    "im = Image.open(path)\n",
    "tensor = t(im)\n",
    "tensor = tensor.unsqueeze(0)"
   ]
  },
  {
   "cell_type": "code",
   "execution_count": 4,
   "metadata": {},
   "outputs": [
    {
     "name": "stdout",
     "output_type": "stream",
     "text": [
      "Loaded pretrained weights for efficientnet-b6\n"
     ]
    },
    {
     "data": {
      "text/plain": [
       "tensor([0.4479], grad_fn=<SelectBackward0>)"
      ]
     },
     "execution_count": 4,
     "metadata": {},
     "output_type": "execute_result"
    }
   ],
   "source": [
    "class EffNet(torch.nn.Module):\n",
    "    def __init__(self, out_features = 7, use_pretrained = False, extract = True, freeze = False, unfreeze_last_layers = False):\n",
    "        super(EffNet, self).__init__()\n",
    "        self.out_features = out_features\n",
    "        self.extract = extract\n",
    "        self.sigmoid = torch.nn.Sigmoid()\n",
    "        self.backbone = EfficientNet.from_pretrained('efficientnet-b6', in_channels = 1, num_classes=self.out_features).float()\n",
    "        self.fc = torch.nn.Linear(in_features=2305, out_features=out_features, bias=True).float()\n",
    "        if use_pretrained:\n",
    "            model = torch.load('/data/kpusteln/Fetal-RL/swin-transformer/output/effnet_cls/default/ckpt_epoch_4.pth')['model']\n",
    "            for key in list(model.keys()):\n",
    "                if 'backbone' in key:\n",
    "                    model[key.replace('backbone.', '')] = model.pop(key) # remove prefix backbone.\n",
    "            self.backbone.load_state_dict(model)\n",
    "        if self.extract:    ## extract features for the transformer, ignore last layer\n",
    "            self.backbone._fc = torch.nn.Identity()\n",
    "        if freeze:\n",
    "            for param in self.backbone.parameters():\n",
    "                    param.requires_grad = False\n",
    "                \n",
    "        if unfreeze_last_layers:\n",
    "            for param in self.backbone._blocks[44:].parameters():\n",
    "                    param.requires_grad = True\n",
    "                \n",
    "    def count_params(self):\n",
    "        return sum(p.numel() for p in self.parameters() if p.requires_grad)\n",
    "\n",
    "    def forward(self, x, ps):\n",
    "        x = self.backbone(x)\n",
    "        ps = ps.reshape(-1, 1).float()\n",
    "        x = torch.cat((x, ps), dim = 1)\n",
    "        if self.out_features == 1:\n",
    "            x = self.fc(x)\n",
    "            x = self.sigmoid(x)\n",
    "        return x\n",
    "    \n",
    "model = EffNet(out_features = 1, use_pretrained = False, extract = True, freeze = True, unfreeze_last_layers = False)\n",
    "checkpoint = torch.load('/data/kpusteln/Fetal-RL/swin-transformer/output/effnet_reg_v2/default/ckpt_epoch_89.pth', map_location='cpu')\n",
    "model.load_state_dict(checkpoint['model'], strict=False)\n",
    "model.eval()\n",
    "output = model(tensor, torch.tensor([ps]) )\n",
    "output[0]\n"
   ]
  },
  {
   "cell_type": "code",
   "execution_count": 6,
   "metadata": {},
   "outputs": [],
   "source": [
    "def denormalize(value, min, max):\n",
    "    value = value * (max - min) + min\n",
    "    return value"
   ]
  },
  {
   "cell_type": "code",
   "execution_count": 7,
   "metadata": {},
   "outputs": [
    {
     "data": {
      "text/plain": [
       "tensor([4.4161], grad_fn=<AddBackward0>)"
      ]
     },
     "execution_count": 7,
     "metadata": {},
     "output_type": "execute_result"
    }
   ],
   "source": [
    "denormalize(output[0], 1.93, 7.48)"
   ]
  }
 ],
 "metadata": {
  "kernelspec": {
   "display_name": "Python 3.9.7 ('base')",
   "language": "python",
   "name": "python3"
  },
  "language_info": {
   "codemirror_mode": {
    "name": "ipython",
    "version": 3
   },
   "file_extension": ".py",
   "mimetype": "text/x-python",
   "name": "python",
   "nbconvert_exporter": "python",
   "pygments_lexer": "ipython3",
   "version": "3.9.7"
  },
  "orig_nbformat": 4,
  "vscode": {
   "interpreter": {
    "hash": "d4d1e4263499bec80672ea0156c357c1ee493ec2b1c70f0acce89fc37c4a6abe"
   }
  }
 },
 "nbformat": 4,
 "nbformat_minor": 2
}
