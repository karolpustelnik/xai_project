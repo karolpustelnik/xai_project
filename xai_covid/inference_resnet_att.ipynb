{
 "cells": [
  {
   "cell_type": "code",
   "execution_count": null,
   "metadata": {},
   "outputs": [],
   "source": [
    "import torch\n",
    "import pandas as pd\n",
    "import numpy as np\n",
    "from models.resnetv2 import ResNet50, ResNet101\n",
    "from torchvision import datasets, transforms\n",
    "from PIL import Image\n",
    "import torch.utils.data as data\n",
    "from melanoma.melanoma_loader import Melanoma_loader"
   ]
  },
  {
   "cell_type": "code",
   "execution_count": null,
   "metadata": {},
   "outputs": [],
   "source": [
    "path_to_model = 'model_melanoma'"
   ]
  }
 ],
 "metadata": {
  "kernelspec": {
   "display_name": "Python 3.7.15 ('swin': conda)",
   "language": "python",
   "name": "python3"
  },
  "language_info": {
   "name": "python",
   "version": "3.7.15"
  },
  "orig_nbformat": 4,
  "vscode": {
   "interpreter": {
    "hash": "4f8d10bf07a38ceb14c8aab326be0a20d497353183768b8a7bb00440bee35d61"
   }
  }
 },
 "nbformat": 4,
 "nbformat_minor": 2
}
