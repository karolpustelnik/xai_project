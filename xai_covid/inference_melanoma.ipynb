{
 "cells": [
  {
   "cell_type": "code",
   "execution_count": 7,
   "metadata": {},
   "outputs": [],
   "source": [
    "import torch\n",
    "import pandas as pd\n",
    "import numpy as np\n",
    "from models.resnetv2 import ResNet50, ResNet101\n",
    "from torchvision import datasets, transforms\n",
    "from PIL import Image\n",
    "import torch.utils.data as data\n",
    "from melanoma.melanoma_loader import Melanoma_loader"
   ]
  },
  {
   "cell_type": "code",
   "execution_count": 2,
   "metadata": {},
   "outputs": [],
   "source": [
    "# melanoma model\n",
    "path_model1 = '/home/kpusteln/Fetal-RL/swin-transformer/output/resnet_50_melanoma/default/ckpt_epoch_3.pth'"
   ]
  },
  {
   "cell_type": "code",
   "execution_count": 3,
   "metadata": {},
   "outputs": [],
   "source": [
    "model = ResNet101(out_features = 2, freeze = True, in_channels=3)"
   ]
  },
  {
   "cell_type": "code",
   "execution_count": 4,
   "metadata": {},
   "outputs": [],
   "source": [
    "checkpoint1 = torch.load(path_model1, map_location='cpu')\n",
    "msg1 = model.load_state_dict(checkpoint1['model'], strict=False)"
   ]
  },
  {
   "cell_type": "code",
   "execution_count": 5,
   "metadata": {},
   "outputs": [
    {
     "name": "stdout",
     "output_type": "stream",
     "text": [
      "tensor([[ 1.0154, -0.9465]], grad_fn=<AddmmBackward0>)\n"
     ]
    }
   ],
   "source": [
    "test_tensor = torch.rand(1,3,224,224)\n",
    "\n",
    "print(model(test_tensor)) # logits"
   ]
  },
  {
   "cell_type": "code",
   "execution_count": null,
   "metadata": {},
   "outputs": [],
   "source": []
  }
 ],
 "metadata": {
  "kernelspec": {
   "display_name": "Python 3.7.15 ('swin': conda)",
   "language": "python",
   "name": "python3"
  },
  "language_info": {
   "codemirror_mode": {
    "name": "ipython",
    "version": 3
   },
   "file_extension": ".py",
   "mimetype": "text/x-python",
   "name": "python",
   "nbconvert_exporter": "python",
   "pygments_lexer": "ipython3",
   "version": "3.7.15"
  },
  "orig_nbformat": 4,
  "vscode": {
   "interpreter": {
    "hash": "4f8d10bf07a38ceb14c8aab326be0a20d497353183768b8a7bb00440bee35d61"
   }
  }
 },
 "nbformat": 4,
 "nbformat_minor": 2
}
