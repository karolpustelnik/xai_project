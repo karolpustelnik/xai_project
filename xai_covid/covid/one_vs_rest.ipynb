{
 "cells": [
  {
   "cell_type": "code",
   "execution_count": 1,
   "metadata": {},
   "outputs": [],
   "source": [
    "import pandas as pd\n",
    "import numpy as np"
   ]
  },
  {
   "cell_type": "markdown",
   "metadata": {},
   "source": [
    "# Covid only preparation"
   ]
  },
  {
   "cell_type": "code",
   "execution_count": 3,
   "metadata": {},
   "outputs": [],
   "source": [
    "train_set = pd.read_csv('/home/kpusteln/covid_dataset/train.csv')\n",
    "val_set = pd.read_csv('/home/kpusteln/covid_dataset/val.csv')\n",
    "test_set = pd.read_csv('/home/kpusteln/covid_dataset/test.csv')"
   ]
  },
  {
   "cell_type": "code",
   "execution_count": 4,
   "metadata": {},
   "outputs": [],
   "source": [
    "# 0 - covid\n",
    "# 1 - non-covid\n",
    "# 2 - normal"
   ]
  },
  {
   "cell_type": "code",
   "execution_count": 4,
   "metadata": {},
   "outputs": [
    {
     "data": {
      "text/plain": [
       "0    7658\n",
       "1    7208\n",
       "2    6849\n",
       "Name: label, dtype: int64"
      ]
     },
     "execution_count": 4,
     "metadata": {},
     "output_type": "execute_result"
    }
   ],
   "source": [
    "train_set['label'].value_counts()"
   ]
  },
  {
   "cell_type": "code",
   "execution_count": 5,
   "metadata": {},
   "outputs": [],
   "source": [
    "train_set['label'].replace([1,2], 1, inplace=True)\n",
    "val_set['label'].replace([1,2], 1, inplace=True)\n",
    "test_set['label'].replace([1,2], 1, inplace=True)"
   ]
  },
  {
   "cell_type": "code",
   "execution_count": 6,
   "metadata": {},
   "outputs": [],
   "source": [
    "train_set.to_csv('/home/kpusteln/covid_dataset/covid_train.csv', index=False)\n",
    "val_set.to_csv('/home/kpusteln/covid_dataset/covid_val.csv', index=False)\n",
    "test_set.to_csv('/home/kpusteln/covid_dataset/covid_test.csv', index=False)"
   ]
  },
  {
   "cell_type": "markdown",
   "metadata": {},
   "source": [
    "# non-covid prep"
   ]
  },
  {
   "cell_type": "code",
   "execution_count": 11,
   "metadata": {},
   "outputs": [],
   "source": [
    "train_set = pd.read_csv('/home/kpusteln/covid_dataset/train.csv')\n",
    "val_set = pd.read_csv('/home/kpusteln/covid_dataset/val.csv')\n",
    "test_set = pd.read_csv('/home/kpusteln/covid_dataset/test.csv')"
   ]
  },
  {
   "cell_type": "code",
   "execution_count": 12,
   "metadata": {},
   "outputs": [],
   "source": [
    "train_set.replace([0,2], 0, inplace=True)\n",
    "val_set.replace([0,2], 0, inplace=True)\n",
    "test_set.replace([0,2], 0, inplace=True)"
   ]
  },
  {
   "cell_type": "code",
   "execution_count": 13,
   "metadata": {},
   "outputs": [],
   "source": [
    "train_set.to_csv('/home/kpusteln/covid_dataset/non_covid_train.csv', index=False)\n",
    "val_set.to_csv('/home/kpusteln/covid_dataset/non_covid_val.csv', index=False)\n",
    "test_set.to_csv('/home/kpusteln/covid_dataset/non_covid_test.csv', index=False)"
   ]
  },
  {
   "cell_type": "markdown",
   "metadata": {},
   "source": [
    "# normal prep"
   ]
  },
  {
   "cell_type": "code",
   "execution_count": 14,
   "metadata": {},
   "outputs": [],
   "source": [
    "train_set = pd.read_csv('/home/kpusteln/covid_dataset/train.csv')\n",
    "val_set = pd.read_csv('/home/kpusteln/covid_dataset/val.csv')\n",
    "test_set = pd.read_csv('/home/kpusteln/covid_dataset/test.csv')"
   ]
  },
  {
   "cell_type": "code",
   "execution_count": 15,
   "metadata": {},
   "outputs": [],
   "source": [
    "train_set.replace([0,1], 0, inplace=True)\n",
    "val_set.replace([0,1], 0, inplace=True)\n",
    "test_set.replace([0,1], 0, inplace=True)"
   ]
  },
  {
   "cell_type": "code",
   "execution_count": 16,
   "metadata": {},
   "outputs": [],
   "source": [
    "train_set.replace(2, 1, inplace=True)\n",
    "val_set.replace(2, 1, inplace=True)\n",
    "test_set.replace(2, 1, inplace=True)"
   ]
  },
  {
   "cell_type": "code",
   "execution_count": 20,
   "metadata": {},
   "outputs": [],
   "source": [
    "train_set.to_csv('/home/kpusteln/covid_dataset/normal_covid_train.csv', index=False)\n",
    "val_set.to_csv('/home/kpusteln/covid_dataset/normal_covid_val.csv', index=False)\n",
    "test_set.to_csv('/home/kpusteln/covid_dataset/normal_covid_test.csv', index=False)"
   ]
  },
  {
   "cell_type": "code",
   "execution_count": 31,
   "metadata": {},
   "outputs": [],
   "source": [
    "train_set = pd.read_csv('/home/kpusteln/covid_dataset/normal_covid_train.csv')"
   ]
  },
  {
   "cell_type": "code",
   "execution_count": 34,
   "metadata": {},
   "outputs": [
    {
     "data": {
      "text/plain": [
       "21715"
      ]
     },
     "execution_count": 34,
     "metadata": {},
     "output_type": "execute_result"
    }
   ],
   "source": [
    "len(train_set)"
   ]
  },
  {
   "cell_type": "code",
   "execution_count": null,
   "metadata": {},
   "outputs": [],
   "source": []
  }
 ],
 "metadata": {
  "kernelspec": {
   "display_name": "Python 3.7.15 ('swin': conda)",
   "language": "python",
   "name": "python3"
  },
  "language_info": {
   "codemirror_mode": {
    "name": "ipython",
    "version": 3
   },
   "file_extension": ".py",
   "mimetype": "text/x-python",
   "name": "python",
   "nbconvert_exporter": "python",
   "pygments_lexer": "ipython3",
   "version": "3.7.15"
  },
  "orig_nbformat": 4,
  "vscode": {
   "interpreter": {
    "hash": "4f8d10bf07a38ceb14c8aab326be0a20d497353183768b8a7bb00440bee35d61"
   }
  }
 },
 "nbformat": 4,
 "nbformat_minor": 2
}
