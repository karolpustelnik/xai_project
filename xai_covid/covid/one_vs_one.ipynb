{
 "cells": [
  {
   "cell_type": "code",
   "execution_count": 1,
   "metadata": {},
   "outputs": [],
   "source": [
    "import pandas as pd\n",
    "import numpy as np"
   ]
  },
  {
   "cell_type": "code",
   "execution_count": 33,
   "metadata": {},
   "outputs": [],
   "source": [
    "train_set = pd.read_csv('/home/kpusteln/covid_dataset/train.csv')\n",
    "val_set = pd.read_csv('/home/kpusteln/covid_dataset/val.csv')\n",
    "test_set = pd.read_csv('/home/kpusteln/covid_dataset/test.csv')"
   ]
  },
  {
   "cell_type": "code",
   "execution_count": 3,
   "metadata": {},
   "outputs": [],
   "source": [
    "# 0 - covid\n",
    "# 1 - non-covid\n",
    "# 2 - normal"
   ]
  },
  {
   "cell_type": "markdown",
   "metadata": {},
   "source": [
    "# Covid vs non-covid"
   ]
  },
  {
   "cell_type": "code",
   "execution_count": 34,
   "metadata": {},
   "outputs": [],
   "source": [
    "train_set_covid_non_covid = train_set[(train_set['label'] == 0) | (train_set['label'] == 1)]\n",
    "val_set_covid_non_covid = val_set[(val_set['label'] == 0) | (val_set['label'] == 1)]\n",
    "test_set_covid_non_covid = test_set[(test_set['label'] == 0) | (test_set['label'] == 1)]"
   ]
  },
  {
   "cell_type": "code",
   "execution_count": 35,
   "metadata": {},
   "outputs": [],
   "source": [
    "train_set_covid_non_covid.to_csv('/home/kpusteln/covid_dataset/train_covid_non_covid.csv', index=False)\n",
    "val_set_covid_non_covid.to_csv('/home/kpusteln/covid_dataset/val_covid_non_covid.csv', index=False)\n",
    "test_set_covid_non_covid.to_csv('/home/kpusteln/covid_dataset/test_covid_non_covid.csv', index=False)"
   ]
  },
  {
   "cell_type": "code",
   "execution_count": 36,
   "metadata": {},
   "outputs": [
    {
     "data": {
      "text/plain": [
       "0    7658\n",
       "1    7208\n",
       "Name: label, dtype: int64"
      ]
     },
     "execution_count": 36,
     "metadata": {},
     "output_type": "execute_result"
    }
   ],
   "source": [
    "train_set_covid_non_covid['label'].value_counts()"
   ]
  },
  {
   "cell_type": "markdown",
   "metadata": {},
   "source": [
    "# Covid vs normal"
   ]
  },
  {
   "cell_type": "code",
   "execution_count": 37,
   "metadata": {},
   "outputs": [],
   "source": [
    "train_set = pd.read_csv('/home/kpusteln/covid_dataset/train.csv')\n",
    "val_set = pd.read_csv('/home/kpusteln/covid_dataset/val.csv')\n",
    "test_set = pd.read_csv('/home/kpusteln/covid_dataset/test.csv')"
   ]
  },
  {
   "cell_type": "code",
   "execution_count": 38,
   "metadata": {},
   "outputs": [],
   "source": [
    "train_set_covid_normal = train_set[(train_set['label'] == 0) | (train_set['label'] == 2)]\n",
    "val_set_covid_normal= val_set[(val_set['label'] == 0) | (val_set['label'] == 2)]\n",
    "test_set_covid_normal = test_set[(test_set['label'] == 0) | (test_set['label'] == 2)]"
   ]
  },
  {
   "cell_type": "code",
   "execution_count": 39,
   "metadata": {},
   "outputs": [
    {
     "name": "stderr",
     "output_type": "stream",
     "text": [
      "/home/kpusteln/miniconda3/envs/swin/lib/python3.7/site-packages/pandas/core/generic.py:6619: SettingWithCopyWarning: \n",
      "A value is trying to be set on a copy of a slice from a DataFrame\n",
      "\n",
      "See the caveats in the documentation: https://pandas.pydata.org/pandas-docs/stable/user_guide/indexing.html#returning-a-view-versus-a-copy\n",
      "  return self._update_inplace(result)\n"
     ]
    }
   ],
   "source": [
    "train_set_covid_normal['label'].replace(2, 1, inplace=True)\n",
    "val_set_covid_normal['label'].replace(2, 1, inplace=True)\n",
    "test_set_covid_normal['label'].replace(2, 1, inplace=True)"
   ]
  },
  {
   "cell_type": "code",
   "execution_count": 40,
   "metadata": {},
   "outputs": [
    {
     "data": {
      "text/plain": [
       "0    7658\n",
       "1    6849\n",
       "Name: label, dtype: int64"
      ]
     },
     "execution_count": 40,
     "metadata": {},
     "output_type": "execute_result"
    }
   ],
   "source": [
    "train_set_covid_normal['label'].value_counts()"
   ]
  },
  {
   "cell_type": "code",
   "execution_count": 17,
   "metadata": {},
   "outputs": [],
   "source": [
    "train_set_covid_normal.to_csv('/home/kpusteln/covid_dataset/train_covid_normal.csv', index=False)\n",
    "val_set_covid_normal.to_csv('/home/kpusteln/covid_dataset/val_covid_normal.csv', index=False)\n",
    "test_set_covid_normal.to_csv('/home/kpusteln/covid_dataset/test_covid_normal.csv', index=False)"
   ]
  },
  {
   "cell_type": "markdown",
   "metadata": {},
   "source": [
    "# Non-covid vs normal"
   ]
  },
  {
   "cell_type": "code",
   "execution_count": 41,
   "metadata": {},
   "outputs": [],
   "source": [
    "train_set = pd.read_csv('/home/kpusteln/covid_dataset/train.csv')\n",
    "val_set = pd.read_csv('/home/kpusteln/covid_dataset/val.csv')\n",
    "test_set = pd.read_csv('/home/kpusteln/covid_dataset/test.csv')"
   ]
  },
  {
   "cell_type": "code",
   "execution_count": 42,
   "metadata": {},
   "outputs": [],
   "source": [
    "train_set_non_covid_normal = train_set[(train_set['label'] == 1) | (train_set['label'] == 2)]\n",
    "val_set_non_covid_normal= val_set[(val_set['label'] == 1) | (val_set['label'] == 2)]\n",
    "test_set_non_covid_normal = test_set[(test_set['label'] == 1) | (test_set['label'] == 2)]"
   ]
  },
  {
   "cell_type": "code",
   "execution_count": 43,
   "metadata": {},
   "outputs": [
    {
     "name": "stderr",
     "output_type": "stream",
     "text": [
      "/home/kpusteln/miniconda3/envs/swin/lib/python3.7/site-packages/pandas/core/generic.py:6619: SettingWithCopyWarning: \n",
      "A value is trying to be set on a copy of a slice from a DataFrame\n",
      "\n",
      "See the caveats in the documentation: https://pandas.pydata.org/pandas-docs/stable/user_guide/indexing.html#returning-a-view-versus-a-copy\n",
      "  return self._update_inplace(result)\n"
     ]
    }
   ],
   "source": [
    "train_set_non_covid_normal['label'].replace([1,2], [0,1], inplace=True)\n",
    "val_set_non_covid_normal['label'].replace([1,2], [0,1], inplace=True)\n",
    "test_set_non_covid_normal['label'].replace([1,2], [0,1], inplace=True)"
   ]
  },
  {
   "cell_type": "code",
   "execution_count": 44,
   "metadata": {},
   "outputs": [
    {
     "data": {
      "text/plain": [
       "0    7208\n",
       "1    6849\n",
       "Name: label, dtype: int64"
      ]
     },
     "execution_count": 44,
     "metadata": {},
     "output_type": "execute_result"
    }
   ],
   "source": [
    "train_set_non_covid_normal['label'].value_counts()"
   ]
  },
  {
   "cell_type": "code",
   "execution_count": 45,
   "metadata": {},
   "outputs": [],
   "source": [
    "train_set_non_covid_normal.to_csv('/home/kpusteln/covid_dataset/train_non_covid_normal.csv', index=False)\n",
    "val_set_non_covid_normal.to_csv('/home/kpusteln/covid_dataset/val_non_covid_normal.csv', index=False)\n",
    "test_set_non_covid_normal.to_csv('/home/kpusteln/covid_dataset/test_non_covid_normal.csv', index=False)"
   ]
  },
  {
   "cell_type": "code",
   "execution_count": null,
   "metadata": {},
   "outputs": [],
   "source": []
  }
 ],
 "metadata": {
  "kernelspec": {
   "display_name": "Python 3.7.15 ('swin': conda)",
   "language": "python",
   "name": "python3"
  },
  "language_info": {
   "codemirror_mode": {
    "name": "ipython",
    "version": 3
   },
   "file_extension": ".py",
   "mimetype": "text/x-python",
   "name": "python",
   "nbconvert_exporter": "python",
   "pygments_lexer": "ipython3",
   "version": "3.7.15"
  },
  "orig_nbformat": 4,
  "vscode": {
   "interpreter": {
    "hash": "4f8d10bf07a38ceb14c8aab326be0a20d497353183768b8a7bb00440bee35d61"
   }
  }
 },
 "nbformat": 4,
 "nbformat_minor": 2
}
